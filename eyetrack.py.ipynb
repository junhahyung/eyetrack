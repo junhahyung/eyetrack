{
 "cells": [
  {
   "cell_type": "code",
   "execution_count": 1,
   "metadata": {},
   "outputs": [],
   "source": [
    "import random\n",
    "import math\n",
    "\n",
    "import numpy as np\n",
    "import matplotlib.pyplot as plt\n",
    "from numpy.linalg import lstsq\n",
    "from numpy.polynomial.polynomial import polyval2d"
   ]
  },
  {
   "cell_type": "code",
   "execution_count": 2,
   "metadata": {},
   "outputs": [
    {
     "name": "stdout",
     "output_type": "stream",
     "text": [
      "created\n",
      "root of mse:  71.62430931202799\n",
      "created\n",
      "root of mse:  82.13939944285484\n",
      "created\n",
      "root of mse:  103.91499011439673\n",
      "created\n",
      "root of mse:  50.04274256799301\n",
      "created\n",
      "root of mse:  70.31943492067023\n",
      "created\n",
      "root of mse:  35.97273647822431\n",
      "created\n",
      "root of mse:  54.60328622973745\n",
      "created\n",
      "root of mse:  15.100424723576179\n",
      "created\n",
      "root of mse:  0.6817707292972522\n",
      "created\n",
      "root of mse:  0.0048963642692853755\n",
      "created\n",
      "root of mse:  0.00015287648703824245\n",
      "created\n",
      "root of mse:  0.00012773220115821804\n",
      "created\n",
      "root of mse:  7.390700139354664e-05\n",
      "created\n",
      "root of mse:  0.00020387969287980007\n",
      "created\n",
      "root of mse:  0.00017911366771237688\n",
      "created\n",
      "root of mse:  0.017525209302438952\n",
      "created\n",
      "root of mse:  0.14557752610414654\n",
      "created\n",
      "root of mse:  0.09941986702342007\n",
      "created\n",
      "root of mse:  0.1778476670251423\n",
      "created\n",
      "root of mse:  1.3779227968015735\n"
     ]
    },
    {
     "data": {
      "text/plain": [
       "[<matplotlib.lines.Line2D at 0x11429a8d0>]"
      ]
     },
     "execution_count": 2,
     "metadata": {},
     "output_type": "execute_result"
    },
    {
     "data": {
      "image/png": "[encoded data removed]",
      "text/plain": [
       "<Figure size 432x288 with 1 Axes>"
      ]
     },
     "metadata": {
      "needs_background": "light"
     },
     "output_type": "display_data"
    }
   ],
   "source": [
    "class eyeball:\n",
    "    def __init__(self, deg, numcal):\n",
    "        print(\"created\")\n",
    "        self.deg = deg\n",
    "        self.numcal = numcal\n",
    "        \n",
    "        self.gx = 0\n",
    "        self.gy = 0\n",
    "        self.gz = 0\n",
    "        self.r = 0\n",
    "    \n",
    "    # determine G, C, R\n",
    "    def create_model(self):\n",
    "        self.gx = random.uniform(20,50)\n",
    "        self.gy = random.uniform(20,50)\n",
    "        self.gz = random.uniform(20,50)\n",
    "        self.r = random.uniform(1.05,1.35)\n",
    "        self.ll = math.sqrt(self.gx**2 + self.gy**2 + self.gz**2)\n",
    "        self.m = self.r/self.ll + 1\n",
    "        self.cx = self.m * self.gx\n",
    "        self.cy = self.m * self.gy\n",
    "        self.cz = self.m * self.gz\n",
    "    \n",
    "    # eye movement(move pupil)\n",
    "    def move(self):\n",
    "        self.px = random.uniform(self.cx-self.r,self.cx+self.r)\n",
    "        yrange = math.sqrt(self.r**2 - (self.cx - self.px)**2)\n",
    "        self.py = random.uniform(self.cy - yrange, self.cy + yrange)\n",
    "        self.pz = self.m*self.gz - math.sqrt(self.r**2 - (self.m*self.gx - self.px)**2 - (self.m*self.gy - self.py)**2)\n",
    "        self.k = -self.cz/(self.cz - self.pz)\n",
    "        self.sx = self.k*(self.cx - self.px) + self.cx\n",
    "        self.sy = self.k*(self.cy - self.py) + self.cy\n",
    "        return (self.px, self.py, self.sx, self.sy)\n",
    "    \n",
    "    # polynomial kernel\n",
    "    def poly(self,px,py):\n",
    "        row = np.zeros((self.deg+1)**2)\n",
    "        for col, (j,i) in enumerate(np.ndindex((self.deg+1, self.deg+1))):\n",
    "            row[col] = px**i * py**j\n",
    "        return row\n",
    "    \n",
    "    # get calibration data\n",
    "    def calibrate(self):\n",
    "        self.trans = np.zeros((self.numcal, (self.deg+1)**2))\n",
    "        self.b = np.zeros((self.numcal, 2))\n",
    "        # number of calibration\n",
    "        for row in range(self.numcal):\n",
    "            px, py, sx, sy = self.move()\n",
    "            self.trans[row] = self.poly(px-self.gx,py-self.gy)\n",
    "            self.b[row] = [sx,sy]\n",
    "    \n",
    "    # least squares estimate. Get mapping matrix(self.coef)\n",
    "    def lsq(self):\n",
    "        self.create_model()\n",
    "        \n",
    "        # calibration\n",
    "        self.calibrate()\n",
    "        \n",
    "        self.coef, _, _, _ = lstsq(self.trans, self.b, rcond=None)\n",
    "        \n",
    "        \"\"\"\n",
    "        print(\"S\")\n",
    "        print(self.b)\n",
    "        print(\"sol\")\n",
    "        print(self.trans@self.coef)\n",
    "        \"\"\"\n",
    "        \n",
    "    # testing. iteration: number of iterations. numtest: number of points to test per iteration. Total = iteration*numtest    \n",
    "    def test(self):\n",
    "        self.error = [0,0]\n",
    "        \n",
    "        iteration = 800\n",
    "        numtest = 200\n",
    "        for it in range(iteration):\n",
    "            self.lsq()\n",
    "        \n",
    "            for i in range(numtest):\n",
    "                #px,py,sx,sy = self.move()\n",
    "                px,py,sx,sy = self.px,self.py,self.sx,self.sy\n",
    "                row = self.poly(px-self.gx,py-self.gy)\n",
    "                se = row@self.coef\n",
    "                self.error += np.square(se-(sx,sy))\n",
    "        mse = self.error/(iteration*numtest)\n",
    "        mse = mse.mean()\n",
    "        \n",
    "        print(\"root of mse: \", np.sqrt(mse))\n",
    "        return np.sqrt(mse)\n",
    "        \n",
    "\n",
    "# testing with 100 calibration dataset, degree 1~20\n",
    "x = []\n",
    "y = []\n",
    "for i in range(20):\n",
    "    eye = eyeball(i+1,100)\n",
    "    x += [i+1]\n",
    "    y += [eye.test()]\n",
    "plt.plot(x,y)\n"
   ]
  },
  {
   "cell_type": "code",
   "execution_count": 6,
   "metadata": {},
   "outputs": [
    {
     "name": "stdout",
     "output_type": "stream",
     "text": [
      "created\n",
      "root of mse:  72.9112448577776\n",
      "created\n",
      "root of mse:  48.603414699380316\n",
      "created\n",
      "root of mse:  7.67384506480625e-13\n",
      "created\n",
      "root of mse:  8.89596936061547e-13\n",
      "created\n",
      "root of mse:  2.3139906624178525e-12\n",
      "created\n",
      "root of mse:  7.715842196479171e-12\n",
      "created\n",
      "root of mse:  4.128914215215162e-12\n",
      "created\n",
      "root of mse:  6.3939603951035635e-12\n",
      "created\n",
      "root of mse:  2.1826999572335077e-11\n",
      "created\n",
      "root of mse:  4.958433493560888e-11\n",
      "created\n",
      "root of mse:  8.716548036694595e-10\n",
      "created\n",
      "root of mse:  1.448943240269242e-10\n",
      "created\n",
      "root of mse:  3.011842198881077e-10\n",
      "created\n",
      "root of mse:  4.86146607982181e-10\n",
      "created\n",
      "root of mse:  2.1858483641616346e-09\n",
      "created\n",
      "root of mse:  4.495481506408881e-09\n",
      "created\n",
      "root of mse:  3.593112574030691e-08\n",
      "created\n",
      "root of mse:  5.9090231252011306e-08\n",
      "created\n",
      "root of mse:  8.987237536156996e-07\n",
      "created\n",
      "root of mse:  1.0999135404703038e-07\n"
     ]
    },
    {
     "data": {
      "text/plain": [
       "[<matplotlib.lines.Line2D at 0x111ded630>]"
      ]
     },
     "execution_count": 6,
     "metadata": {},
     "output_type": "execute_result"
    },
    {
     "data": {
      "image/png": "[encoded data removed]",
      "text/plain": [
       "<Figure size 432x288 with 1 Axes>"
      ]
     },
     "metadata": {
      "needs_background": "light"
     },
     "output_type": "display_data"
    }
   ],
   "source": [
    "# testing with 10 calibration dataset, degree 1~20\n",
    "x = []\n",
    "y = []\n",
    "for i in range(20):\n",
    "    eye = eyeball(i+1,10)\n",
    "    x += [i+1]\n",
    "    y += [eye.test()]\n",
    "plt.plot(x,y)"
   ]
  },
  {
   "cell_type": "code",
   "execution_count": null,
   "metadata": {},
   "outputs": [],
   "source": []
  }
 ],
 "metadata": {
  "kernelspec": {
   "display_name": "Python 3",
   "language": "python",
   "name": "python3"
  },
  "language_info": {
   "codemirror_mode": {
    "name": "ipython",
    "version": 3
   },
   "file_extension": ".py",
   "mimetype": "text/x-python",
   "name": "python",
   "nbconvert_exporter": "python",
   "pygments_lexer": "ipython3",
   "version": "3.7.3"
  }
 },
 "nbformat": 4,
 "nbformat_minor": 2
}
